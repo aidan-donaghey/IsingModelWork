{
 "cells": [
  {
   "cell_type": "code",
   "execution_count": 2,
   "id": "dec90a32-25fa-43e9-8f31-06e33f509a5f",
   "metadata": {},
   "outputs": [],
   "source": [
    "class MyClass:\n",
    "    def __init__(self):\n",
    "        self.__secret = 10\n",
    "obj1 = MyClass()"
   ]
  },
  {
   "cell_type": "code",
   "execution_count": 6,
   "id": "0a7d5af0-46ed-4f6e-8ac1-f565935139a9",
   "metadata": {},
   "outputs": [
    {
     "name": "stdout",
     "output_type": "stream",
     "text": [
      "10\n"
     ]
    }
   ],
   "source": [
    "print(obj1._MyClass__secret)"
   ]
  },
  {
   "cell_type": "code",
   "execution_count": 4,
   "id": "57303fb4-6778-4749-b094-acc92f11bea1",
   "metadata": {},
   "outputs": [],
   "source": [
    "from event import Event"
   ]
  },
  {
   "cell_type": "code",
   "execution_count": 5,
   "id": "fded820e-e6c0-498d-b748-4de145a3af6e",
   "metadata": {},
   "outputs": [
    {
     "ename": "ModuleNotFoundError",
     "evalue": "No module named 'event.Event'; 'event' is not a package",
     "output_type": "error",
     "traceback": [
      "\u001b[0;31m---------------------------------------------------------------------------\u001b[0m",
      "\u001b[0;31mModuleNotFoundError\u001b[0m                       Traceback (most recent call last)",
      "\u001b[0;32m<ipython-input-5-fa5e4bcafea6>\u001b[0m in \u001b[0;36m<module>\u001b[0;34m\u001b[0m\n\u001b[0;32m----> 1\u001b[0;31m \u001b[0;32mimport\u001b[0m \u001b[0mevent\u001b[0m\u001b[0;34m.\u001b[0m\u001b[0mEvent\u001b[0m\u001b[0;34m\u001b[0m\u001b[0;34m\u001b[0m\u001b[0m\n\u001b[0m",
      "\u001b[0;31mModuleNotFoundError\u001b[0m: No module named 'event.Event'; 'event' is not a package"
     ]
    }
   ],
   "source": [
    "import event.Event"
   ]
  },
  {
   "cell_type": "code",
   "execution_count": 3,
   "id": "71ecdcea-141b-43cf-989e-2f0f6a655c27",
   "metadata": {},
   "outputs": [
    {
     "ename": "AttributeError",
     "evalue": "module 'event' has no attribute 'name'",
     "output_type": "error",
     "traceback": [
      "\u001b[0;31m---------------------------------------------------------------------------\u001b[0m",
      "\u001b[0;31mAttributeError\u001b[0m                            Traceback (most recent call last)",
      "\u001b[0;32m<ipython-input-3-1f4619581606>\u001b[0m in \u001b[0;36m<module>\u001b[0;34m\u001b[0m\n\u001b[0;32m----> 1\u001b[0;31m \u001b[0mevent\u001b[0m\u001b[0;34m.\u001b[0m\u001b[0mname\u001b[0m\u001b[0;34m(\u001b[0m\u001b[0;34m)\u001b[0m\u001b[0;34m\u001b[0m\u001b[0;34m\u001b[0m\u001b[0m\n\u001b[0m",
      "\u001b[0;31mAttributeError\u001b[0m: module 'event' has no attribute 'name'"
     ]
    }
   ],
   "source": [
    "event.name()"
   ]
  },
  {
   "cell_type": "code",
   "execution_count": 9,
   "id": "2ea4ea7e-4224-4004-948b-61e88e109bfa",
   "metadata": {},
   "outputs": [
    {
     "name": "stdout",
     "output_type": "stream",
     "text": [
      "<__main__.Example object at 0x1102ad9d0>\n",
      "<__main__.Example object at 0x1102adcd0>\n",
      "<__main__.Example object at 0x1102ad820>\n"
     ]
    }
   ],
   "source": [
    "class Example:\n",
    "    def __init__(self, names=[]):\n",
    "        self.names = names\n",
    "\n",
    "a = Example()\n",
    "b = Example()\n",
    "c = Example([\"Sherry\"])\n",
    "a.names.append(\"Tim\")\n",
    "print(a)\n",
    "print(b)\n",
    "print(c)\n"
   ]
  },
  {
   "cell_type": "code",
   "execution_count": null,
   "id": "107f0f5a-8bed-4f11-9222-9ae28fc5257c",
   "metadata": {},
   "outputs": [],
   "source": []
  }
 ],
 "metadata": {
  "kernelspec": {
   "display_name": "Python 3",
   "language": "python",
   "name": "python3"
  },
  "language_info": {
   "codemirror_mode": {
    "name": "ipython",
    "version": 3
   },
   "file_extension": ".py",
   "mimetype": "text/x-python",
   "name": "python",
   "nbconvert_exporter": "python",
   "pygments_lexer": "ipython3",
   "version": "3.9.4"
  }
 },
 "nbformat": 4,
 "nbformat_minor": 5
}
