{
 "cells": [
  {
   "cell_type": "code",
   "execution_count": 2,
   "id": "dec90a32-25fa-43e9-8f31-06e33f509a5f",
   "metadata": {},
   "outputs": [],
   "source": [
    "class MyClass:\n",
    "    def __init__(self):\n",
    "        self.__secret = 10\n",
    "obj1 = MyClass()"
   ]
  },
  {
   "cell_type": "code",
   "execution_count": 6,
   "id": "0a7d5af0-46ed-4f6e-8ac1-f565935139a9",
   "metadata": {},
   "outputs": [
    {
     "name": "stdout",
     "output_type": "stream",
     "text": [
      "10\n"
     ]
    }
   ],
   "source": [
    "print(obj1._MyClass__secret)"
   ]
  },
  {
   "cell_type": "code",
   "execution_count": 1,
   "id": "57303fb4-6778-4749-b094-acc92f11bea1",
   "metadata": {},
   "outputs": [],
   "source": [
    "import event"
   ]
  },
  {
   "cell_type": "code",
   "execution_count": 2,
   "id": "fded820e-e6c0-498d-b748-4de145a3af6e",
   "metadata": {},
   "outputs": [
    {
     "data": {
      "text/plain": [
       "<event.Event at 0x102db2460>"
      ]
     },
     "execution_count": 2,
     "metadata": {},
     "output_type": "execute_result"
    }
   ],
   "source": [
    "event.Event()"
   ]
  },
  {
   "cell_type": "code",
   "execution_count": 3,
   "id": "71ecdcea-141b-43cf-989e-2f0f6a655c27",
   "metadata": {},
   "outputs": [
    {
     "ename": "AttributeError",
     "evalue": "module 'event' has no attribute 'print'",
     "output_type": "error",
     "traceback": [
      "\u001b[0;31m---------------------------------------------------------------------------\u001b[0m",
      "\u001b[0;31mAttributeError\u001b[0m                            Traceback (most recent call last)",
      "\u001b[0;32m<ipython-input-3-fdd3f0ec6068>\u001b[0m in \u001b[0;36m<module>\u001b[0;34m\u001b[0m\n\u001b[0;32m----> 1\u001b[0;31m \u001b[0mevent\u001b[0m\u001b[0;34m.\u001b[0m\u001b[0mprint\u001b[0m\u001b[0;34m(\u001b[0m\u001b[0;34m)\u001b[0m\u001b[0;34m\u001b[0m\u001b[0;34m\u001b[0m\u001b[0m\n\u001b[0m",
      "\u001b[0;31mAttributeError\u001b[0m: module 'event' has no attribute 'print'"
     ]
    }
   ],
   "source": [
    "event.name()"
   ]
  },
  {
   "cell_type": "code",
   "execution_count": null,
   "id": "2ea4ea7e-4224-4004-948b-61e88e109bfa",
   "metadata": {},
   "outputs": [],
   "source": []
  }
 ],
 "metadata": {
  "kernelspec": {
   "display_name": "Python 3",
   "language": "python",
   "name": "python3"
  },
  "language_info": {
   "codemirror_mode": {
    "name": "ipython",
    "version": 3
   },
   "file_extension": ".py",
   "mimetype": "text/x-python",
   "name": "python",
   "nbconvert_exporter": "python",
   "pygments_lexer": "ipython3",
   "version": "3.9.4"
  }
 },
 "nbformat": 4,
 "nbformat_minor": 5
}
