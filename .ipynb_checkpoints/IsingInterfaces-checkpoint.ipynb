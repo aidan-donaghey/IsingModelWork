{
 "cells": [
  {
   "cell_type": "code",
   "execution_count": 140,
   "id": "6b6fe5d0-3e7c-4ce7-960b-90e10d5d4560",
   "metadata": {},
   "outputs": [],
   "source": [
    "import pandas as pd\n",
    "import numpy as np\n",
    "import matplotlib.pyplot as plt\n",
    "import csv\n",
    "EMpath = \"data/1.60T3.60_EM_v1.csv\"\n",
    "SCpath = \"data/1.60T3.60_SC_v0.csv\""
   ]
  },
  {
   "cell_type": "code",
   "execution_count": 132,
   "id": "166f534c-ecc6-489f-aa4d-dcaccc295058",
   "metadata": {},
   "outputs": [],
   "source": [
    "def EMdataExtraction(EMpath):\n",
    "    N = 0\n",
    "    n_steps = 0\n",
    "    n_analyze = 0\n",
    "    flip_perc = 0\n",
    "    n = 3\n",
    "    nfirstlines = []\n",
    "    newpath = (EMpath[:-4 or None] + \"_cleaned.csv\")\n",
    "    print(newpath)\n",
    "    with open(EMpath) as f, open(newpath, \"w\") as out:\n",
    "        for x in range(n):\n",
    "            nfirstlines.append(next(f))\n",
    "        for line in f:\n",
    "            out.write(line)\n",
    "    # NB : it seems that `os.rename()` complains on some systems\n",
    "    # if the destination file already exists.\n",
    "    re = csv.reader(nfirstlines, delimiter=',', quotechar='|')\n",
    "    tempdict = {}\n",
    "    for index,row in enumerate(re, start=0):\n",
    "            if index == 1:\n",
    "                tempdict[\"N\"] = row[0]\n",
    "                tempdict[\"n_steps\"] = row[1]\n",
    "                tempdict[\"n_analyze\"] = row[2]\n",
    "                tempdict[\"flip_perc\"] = row[3]\n",
    "    data = pd.read_csv(newpath) \n",
    "    return  tempdict, data"
   ]
  },
  {
   "cell_type": "code",
   "execution_count": 133,
   "id": "565de6c0-df3f-4da7-b6f9-4377e61b31fe",
   "metadata": {},
   "outputs": [
    {
     "name": "stdout",
     "output_type": "stream",
     "text": [
      "data/1.60T3.60_EM_v3_cleaned.csv\n"
     ]
    },
    {
     "data": {
      "text/plain": [
       "({'N': '200', 'n_steps': '10000', 'n_analyze': '5000', 'flip_perc': '0.1'},\n",
       "     Temp    E_mean     E_std    M_mean     M_std\n",
       " 0    1.6 -1.831640  0.007916  0.072051  0.008633\n",
       " 1    1.7 -1.779346  0.010844 -0.035314  0.006741\n",
       " 2    1.8 -1.746852  0.019476  0.304747  0.076547\n",
       " 3    1.9 -1.690435  0.019171  0.196254  0.008919\n",
       " 4    2.0 -1.603458  0.014494  0.187569  0.073857\n",
       " 5    2.1 -1.519739  0.021972  0.182583  0.034136\n",
       " 6    2.2 -1.376367  0.015700 -0.084441  0.018183\n",
       " 7    2.3 -1.236283  0.014973  0.045300  0.038632\n",
       " 8    2.4 -1.109222  0.010336  0.009204  0.022062\n",
       " 9    2.5 -1.020777  0.010689  0.014210  0.033245\n",
       " 10   2.6 -0.945068  0.011106 -0.003908  0.027855\n",
       " 11   2.7 -0.880211  0.010047  0.013640  0.020302\n",
       " 12   2.8 -0.825685  0.010837  0.006669  0.019566\n",
       " 13   2.9 -0.780444  0.010119 -0.005319  0.017376\n",
       " 14   3.0 -0.740958  0.009826 -0.001296  0.013796\n",
       " 15   3.1 -0.703764  0.009211 -0.001105  0.012535\n",
       " 16   3.2 -0.670489  0.008426  0.002134  0.013891\n",
       " 17   3.3 -0.642725  0.008780  0.000626  0.011177\n",
       " 18   3.4 -0.615409  0.009374 -0.001095  0.014798\n",
       " 19   3.5 -0.589092  0.009073  0.000514  0.010998)"
      ]
     },
     "execution_count": 133,
     "metadata": {},
     "output_type": "execute_result"
    }
   ],
   "source": [
    "EMdataExtraction(EMpath)"
   ]
  },
  {
   "cell_type": "code",
   "execution_count": 134,
   "id": "95ccbbd9-9d4e-4ce2-b7e3-73bb2b9b27d8",
   "metadata": {},
   "outputs": [],
   "source": [
    "def SCdataExtraction(SCpath):\n",
    "    N = 0\n",
    "    n_steps = 0\n",
    "    n_analyze = 0\n",
    "    flip_perc = 0\n",
    "    n = 3\n",
    "    nfirstlines = []\n",
    "    newpath = (SCpath[:-4 or None] + \"_cleaned.csv\")\n",
    "    print(newpath)\n",
    "    with open(SCpath) as f, open(newpath, \"w\") as out:\n",
    "        for x in range(n):\n",
    "            nfirstlines.append(next(f))\n",
    "        for line in f:\n",
    "            out.write(line)\n",
    "    # NB : it seems that `os.rename()` complains on some systems\n",
    "    # if the destination file already exists.\n",
    "    re = csv.reader(nfirstlines, delimiter=',', quotechar='|')\n",
    "    tempdict ={}\n",
    "    for index,row in enumerate(re, start=0):\n",
    "            if index == 1:\n",
    "                tempdict[\"N\"] = row[0]\n",
    "                tempdict[\"n_steps\"] = row[1]\n",
    "                tempdict[\"n_analyze\"] = row[2]\n",
    "                tempdict[\"flip_perc\"] = row[3]\n",
    "    data = pd.read_csv(newpath) \n",
    "    return  tempdict, data"
   ]
  },
  {
   "cell_type": "code",
   "execution_count": null,
   "id": "6f170d96-881f-431f-9fe5-6469d455d234",
   "metadata": {},
   "outputs": [],
   "source": []
  },
  {
   "cell_type": "code",
   "execution_count": 135,
   "id": "6c8a65d3-da56-4969-b2b6-618152e32214",
   "metadata": {},
   "outputs": [
    {
     "name": "stdout",
     "output_type": "stream",
     "text": [
      "data/1.60T3.60_SC_v3_cleaned.csv\n"
     ]
    },
    {
     "data": {
      "text/plain": [
       "({'N': '200', 'n_steps': '10000', 'n_analyze': '5000', 'flip_perc': '0.1'},\n",
       "     Temp       d=1       d=2       d=3       d=4           d=5       d=6  \\\n",
       " 0    1.6  0.003757  0.003574  0.003416  0.003267  3.120098e-03  0.002979   \n",
       " 1    1.7  0.003737  0.003511  0.003340  0.003172  3.010271e-03  0.002852   \n",
       " 2    1.8  0.003032  0.002836  0.002707  0.002593  2.484044e-03  0.002374   \n",
       " 3    1.9  0.003084  0.002850  0.002721  0.002617  2.510656e-03  0.002408   \n",
       " 4    2.0  0.003120  0.002793  0.002603  0.002469  2.352311e-03  0.002233   \n",
       " 5    2.1  0.003129  0.002782  0.002600  0.002465  2.351780e-03  0.002256   \n",
       " 6    2.2  0.003007  0.002437  0.002125  0.001894  1.706741e-03  0.001549   \n",
       " 7    2.3  0.002796  0.002070  0.001672  0.001427  1.245457e-03  0.001111   \n",
       " 8    2.4  0.002690  0.001814  0.001333  0.001016  7.741824e-04  0.000580   \n",
       " 9    2.5  0.002439  0.001484  0.000973  0.000675  4.624797e-04  0.000317   \n",
       " 10   2.6  0.002268  0.001289  0.000816  0.000497  2.966278e-04  0.000212   \n",
       " 11   2.7  0.002087  0.001080  0.000588  0.000338  1.731394e-04  0.000088   \n",
       " 12   2.8  0.001984  0.000949  0.000477  0.000234  8.322295e-05  0.000041   \n",
       " 13   2.9  0.001862  0.000836  0.000399  0.000190  9.237834e-05  0.000026   \n",
       " 14   3.0  0.001778  0.000792  0.000376  0.000208  7.347647e-05 -0.000006   \n",
       " 15   3.1  0.001725  0.000749  0.000326  0.000093  6.775288e-06 -0.000041   \n",
       " 16   3.2  0.001618  0.000605  0.000223  0.000097 -1.291127e-06 -0.000030   \n",
       " 17   3.3  0.001555  0.000549  0.000203  0.000033 -2.229147e-05 -0.000055   \n",
       " 18   3.4  0.001468  0.000504  0.000164  0.000054 -8.785176e-06 -0.000026   \n",
       " 19   3.5  0.001431  0.000481  0.000153  0.000021 -7.287901e-07 -0.000052   \n",
       " \n",
       "          d=7       d=8       d=9  ...      d=91      d=92      d=93      d=94  \\\n",
       " 0   0.002834  0.002692  0.002555  ... -0.001138 -0.001141 -0.001145 -0.001143   \n",
       " 1   0.002697  0.002544  0.002391  ... -0.001032 -0.001062 -0.001092 -0.001116   \n",
       " 2   0.002268  0.002167  0.002069  ... -0.001267 -0.001280 -0.001288 -0.001293   \n",
       " 3   0.002308  0.002204  0.002110  ... -0.001335 -0.001349 -0.001355 -0.001359   \n",
       " 4   0.002122  0.002004  0.001891  ... -0.001061 -0.001071 -0.001075 -0.001101   \n",
       " 5   0.002174  0.002091  0.002015  ... -0.001217 -0.001234 -0.001244 -0.001254   \n",
       " 6   0.001394  0.001258  0.001145  ... -0.000523 -0.000531 -0.000537 -0.000552   \n",
       " 7   0.000982  0.000885  0.000784  ... -0.000418 -0.000422 -0.000414 -0.000407   \n",
       " 8   0.000438  0.000341  0.000257  ... -0.000178 -0.000200 -0.000200 -0.000228   \n",
       " 9   0.000209  0.000133  0.000101  ... -0.000143 -0.000147 -0.000169 -0.000168   \n",
       " 10  0.000143  0.000057 -0.000015  ... -0.000107 -0.000082 -0.000099 -0.000077   \n",
       " 11  0.000050  0.000031  0.000004  ... -0.000066 -0.000085 -0.000082 -0.000089   \n",
       " 12  0.000003 -0.000023 -0.000070  ... -0.000115 -0.000101 -0.000077 -0.000075   \n",
       " 13 -0.000054 -0.000067 -0.000053  ... -0.000067 -0.000090 -0.000087 -0.000088   \n",
       " 14 -0.000049 -0.000059 -0.000058  ... -0.000099 -0.000062 -0.000053 -0.000027   \n",
       " 15 -0.000043 -0.000037 -0.000024  ... -0.000100 -0.000073 -0.000079 -0.000067   \n",
       " 16 -0.000042 -0.000045 -0.000053  ... -0.000035 -0.000046 -0.000072 -0.000077   \n",
       " 17 -0.000076 -0.000098 -0.000101  ... -0.000056 -0.000049 -0.000054 -0.000060   \n",
       " 18 -0.000029 -0.000027 -0.000044  ... -0.000023 -0.000019 -0.000058 -0.000046   \n",
       " 19 -0.000058 -0.000056 -0.000044  ... -0.000068 -0.000060 -0.000063 -0.000033   \n",
       " \n",
       "         d=95      d=96      d=97      d=98      d=99  d=100  \n",
       " 0  -0.001143 -0.001139 -0.001136 -0.001135 -0.001134    NaN  \n",
       " 1  -0.001136 -0.001148 -0.001169 -0.001177 -0.001185    NaN  \n",
       " 2  -0.001300 -0.001309 -0.001315 -0.001321 -0.001320    NaN  \n",
       " 3  -0.001366 -0.001368 -0.001377 -0.001379 -0.001375    NaN  \n",
       " 4  -0.001118 -0.001124 -0.001139 -0.001143 -0.001147    NaN  \n",
       " 5  -0.001261 -0.001262 -0.001261 -0.001259 -0.001264    NaN  \n",
       " 6  -0.000557 -0.000564 -0.000568 -0.000593 -0.000610    NaN  \n",
       " 7  -0.000385 -0.000392 -0.000395 -0.000387 -0.000393    NaN  \n",
       " 8  -0.000239 -0.000209 -0.000183 -0.000170 -0.000199    NaN  \n",
       " 9  -0.000203 -0.000197 -0.000184 -0.000188 -0.000190    NaN  \n",
       " 10 -0.000091 -0.000118 -0.000106 -0.000095 -0.000080    NaN  \n",
       " 11 -0.000087 -0.000079 -0.000111 -0.000120 -0.000107    NaN  \n",
       " 12 -0.000086 -0.000080 -0.000117 -0.000139 -0.000171    NaN  \n",
       " 13 -0.000078 -0.000074 -0.000083 -0.000076 -0.000059    NaN  \n",
       " 14 -0.000029 -0.000018 -0.000037 -0.000035 -0.000062    NaN  \n",
       " 15 -0.000068 -0.000062 -0.000066 -0.000055 -0.000060    NaN  \n",
       " 16 -0.000081 -0.000085 -0.000067 -0.000047 -0.000035    NaN  \n",
       " 17 -0.000039 -0.000090 -0.000102 -0.000073 -0.000073    NaN  \n",
       " 18 -0.000032 -0.000045 -0.000049 -0.000024 -0.000003    NaN  \n",
       " 19 -0.000055 -0.000064 -0.000053 -0.000020 -0.000030    NaN  \n",
       " \n",
       " [20 rows x 101 columns])"
      ]
     },
     "execution_count": 135,
     "metadata": {},
     "output_type": "execute_result"
    }
   ],
   "source": [
    "SCdataExtraction(SCpath)"
   ]
  },
  {
   "cell_type": "code",
   "execution_count": 145,
   "id": "c8bff942-4f11-4172-95e7-ae2c2db7fec2",
   "metadata": {},
   "outputs": [
    {
     "name": "stdout",
     "output_type": "stream",
     "text": [
      "data/1.60T3.60_SC_v3_cleaned.csv\n",
      "data/EM_200N_200T_steps_cleaned.csv\n"
     ]
    }
   ],
   "source": [
    "SCpath = \"data/1.60T3.60_SC_v3.csv\"\n",
    "EMpath = \"data/EM_200N_200T_steps.csv\"\n",
    "SCparams , SCdata = SCdataExtraction(SCpath)\n",
    "EMparams , EMdata = EMdataExtraction(EMpath)"
   ]
  },
  {
   "cell_type": "code",
   "execution_count": 148,
   "id": "c255eb3c-ffd8-44ce-b8ca-780a4dd94613",
   "metadata": {},
   "outputs": [
    {
     "data": {
      "text/html": [
       "<div>\n",
       "<style scoped>\n",
       "    .dataframe tbody tr th:only-of-type {\n",
       "        vertical-align: middle;\n",
       "    }\n",
       "\n",
       "    .dataframe tbody tr th {\n",
       "        vertical-align: top;\n",
       "    }\n",
       "\n",
       "    .dataframe thead th {\n",
       "        text-align: right;\n",
       "    }\n",
       "</style>\n",
       "<table border=\"1\" class=\"dataframe\">\n",
       "  <thead>\n",
       "    <tr style=\"text-align: right;\">\n",
       "      <th></th>\n",
       "      <th>Temp</th>\n",
       "      <th>E_mean</th>\n",
       "      <th>E_std</th>\n",
       "      <th>M_mean</th>\n",
       "      <th>M_std</th>\n",
       "    </tr>\n",
       "  </thead>\n",
       "  <tbody>\n",
       "    <tr>\n",
       "      <th>0</th>\n",
       "      <td>1.60</td>\n",
       "      <td>-1.829128</td>\n",
       "      <td>0.012745</td>\n",
       "      <td>-0.177148</td>\n",
       "      <td>0.013449</td>\n",
       "    </tr>\n",
       "    <tr>\n",
       "      <th>1</th>\n",
       "      <td>1.61</td>\n",
       "      <td>-1.836792</td>\n",
       "      <td>0.012639</td>\n",
       "      <td>0.102440</td>\n",
       "      <td>0.010724</td>\n",
       "    </tr>\n",
       "    <tr>\n",
       "      <th>2</th>\n",
       "      <td>1.62</td>\n",
       "      <td>-1.833891</td>\n",
       "      <td>0.013086</td>\n",
       "      <td>0.009745</td>\n",
       "      <td>0.009246</td>\n",
       "    </tr>\n",
       "    <tr>\n",
       "      <th>3</th>\n",
       "      <td>1.63</td>\n",
       "      <td>-1.828684</td>\n",
       "      <td>0.015576</td>\n",
       "      <td>-0.136860</td>\n",
       "      <td>0.025169</td>\n",
       "    </tr>\n",
       "    <tr>\n",
       "      <th>4</th>\n",
       "      <td>1.64</td>\n",
       "      <td>-1.819878</td>\n",
       "      <td>0.014823</td>\n",
       "      <td>-0.223579</td>\n",
       "      <td>0.012273</td>\n",
       "    </tr>\n",
       "  </tbody>\n",
       "</table>\n",
       "</div>"
      ],
      "text/plain": [
       "   Temp    E_mean     E_std    M_mean     M_std\n",
       "0  1.60 -1.829128  0.012745 -0.177148  0.013449\n",
       "1  1.61 -1.836792  0.012639  0.102440  0.010724\n",
       "2  1.62 -1.833891  0.013086  0.009745  0.009246\n",
       "3  1.63 -1.828684  0.015576 -0.136860  0.025169\n",
       "4  1.64 -1.819878  0.014823 -0.223579  0.012273"
      ]
     },
     "execution_count": 148,
     "metadata": {},
     "output_type": "execute_result"
    }
   ],
   "source": [
    "EMdata.head()"
   ]
  },
  {
   "cell_type": "code",
   "execution_count": 151,
   "id": "b23ef25d-792c-4a1f-bfa1-96bf33965598",
   "metadata": {},
   "outputs": [
    {
     "data": {
      "text/plain": [
       "<AxesSubplot:xlabel='Temp'>"
      ]
     },
     "execution_count": 151,
     "metadata": {},
     "output_type": "execute_result"
    },
    {
     "data": {
      "image/png": "[encoded data removed]",
      "text/plain": [
       "<Figure size 432x288 with 1 Axes>"
      ]
     },
     "metadata": {
      "needs_background": "light"
     },
     "output_type": "display_data"
    }
   ],
   "source": [
    "EMdata.plot(x=\"Temp\", y =\"M_mean\")"
   ]
  },
  {
   "cell_type": "code",
   "execution_count": null,
   "id": "2bf4f867-e1b5-406d-b98a-a146911d75bb",
   "metadata": {},
   "outputs": [],
   "source": []
  },
  {
   "cell_type": "code",
   "execution_count": null,
   "id": "f80a6176-aed7-45ae-8e5f-b5c921e2b90e",
   "metadata": {},
   "outputs": [],
   "source": []
  },
  {
   "cell_type": "code",
   "execution_count": null,
   "id": "ec140a62-4473-4d68-94f9-4bb1cb93296f",
   "metadata": {},
   "outputs": [],
   "source": []
  },
  {
   "cell_type": "code",
   "execution_count": null,
   "id": "7cc9512b-c02a-42ae-8981-f9fa554a8af1",
   "metadata": {},
   "outputs": [],
   "source": []
  },
  {
   "cell_type": "code",
   "execution_count": null,
   "id": "de41abf7-faee-4724-a101-711209893a19",
   "metadata": {},
   "outputs": [],
   "source": []
  },
  {
   "cell_type": "code",
   "execution_count": null,
   "id": "d1818254-b0bb-41fe-aa65-5253e6e9f83e",
   "metadata": {},
   "outputs": [],
   "source": []
  },
  {
   "cell_type": "code",
   "execution_count": null,
   "id": "cbf80ce0-07f6-4903-9caf-888c55aa1801",
   "metadata": {},
   "outputs": [],
   "source": []
  },
  {
   "cell_type": "code",
   "execution_count": 109,
   "id": "2ca09b29-4551-46fc-a31b-a0aad5a784dc",
   "metadata": {},
   "outputs": [],
   "source": []
  },
  {
   "cell_type": "code",
   "execution_count": null,
   "id": "1b082f07-8537-4e34-ac31-1e52168d244d",
   "metadata": {},
   "outputs": [],
   "source": []
  },
  {
   "cell_type": "code",
   "execution_count": null,
   "id": "17ae04c6-d237-41f7-960f-ab0b078d9d3c",
   "metadata": {},
   "outputs": [],
   "source": []
  }
 ],
 "metadata": {
  "kernelspec": {
   "display_name": "Ising",
   "language": "python",
   "name": "ising"
  },
  "language_info": {
   "codemirror_mode": {
    "name": "ipython",
    "version": 3
   },
   "file_extension": ".py",
   "mimetype": "text/x-python",
   "name": "python",
   "nbconvert_exporter": "python",
   "pygments_lexer": "ipython3",
   "version": "3.9.6"
  }
 },
 "nbformat": 4,
 "nbformat_minor": 5
}
